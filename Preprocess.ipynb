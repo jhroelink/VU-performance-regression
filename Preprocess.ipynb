{
 "cells": [
  {
   "cell_type": "code",
   "execution_count": 60,
   "metadata": {},
   "outputs": [
    {
     "ename": "ImportError",
     "evalue": "cannot import name 'PolynomialRegression' from 'sklearn.linear_model' (D:\\Anaconda\\lib\\site-packages\\sklearn\\linear_model\\__init__.py)",
     "output_type": "error",
     "traceback": [
      "\u001b[1;31m---------------------------------------------------------------------------\u001b[0m",
      "\u001b[1;31mImportError\u001b[0m                               Traceback (most recent call last)",
      "\u001b[1;32m<ipython-input-60-ccdd6283b76f>\u001b[0m in \u001b[0;36m<module>\u001b[1;34m\u001b[0m\n\u001b[0;32m      5\u001b[0m \u001b[1;32mfrom\u001b[0m \u001b[0msklearn\u001b[0m\u001b[1;33m.\u001b[0m\u001b[0mmodel_selection\u001b[0m \u001b[1;32mimport\u001b[0m \u001b[0mtrain_test_split\u001b[0m\u001b[1;33m\u001b[0m\u001b[1;33m\u001b[0m\u001b[0m\n\u001b[0;32m      6\u001b[0m \u001b[1;32mfrom\u001b[0m \u001b[0msklearn\u001b[0m\u001b[1;33m.\u001b[0m\u001b[0mlinear_model\u001b[0m \u001b[1;32mimport\u001b[0m \u001b[0mLinearRegression\u001b[0m\u001b[1;33m\u001b[0m\u001b[1;33m\u001b[0m\u001b[0m\n\u001b[1;32m----> 7\u001b[1;33m \u001b[1;32mfrom\u001b[0m \u001b[0msklearn\u001b[0m\u001b[1;33m.\u001b[0m\u001b[0mlinear_model\u001b[0m \u001b[1;32mimport\u001b[0m \u001b[0mPolynomialRegression\u001b[0m\u001b[1;33m\u001b[0m\u001b[1;33m\u001b[0m\u001b[0m\n\u001b[0m\u001b[0;32m      8\u001b[0m \u001b[1;33m\u001b[0m\u001b[0m\n\u001b[0;32m      9\u001b[0m \u001b[0mdf_por\u001b[0m \u001b[1;33m=\u001b[0m \u001b[0mpd\u001b[0m\u001b[1;33m.\u001b[0m\u001b[0mread_csv\u001b[0m\u001b[1;33m(\u001b[0m\u001b[1;34m'student-por.csv'\u001b[0m\u001b[1;33m,\u001b[0m \u001b[0msep\u001b[0m\u001b[1;33m=\u001b[0m\u001b[1;34m';'\u001b[0m\u001b[1;33m)\u001b[0m\u001b[1;33m\u001b[0m\u001b[1;33m\u001b[0m\u001b[0m\n",
      "\u001b[1;31mImportError\u001b[0m: cannot import name 'PolynomialRegression' from 'sklearn.linear_model' (D:\\Anaconda\\lib\\site-packages\\sklearn\\linear_model\\__init__.py)"
     ]
    }
   ],
   "source": [
    "import numpy as np\n",
    "import pandas as pd\n",
    "import sklearn as sk\n",
    "from sklearn.decomposition import PCA\n",
    "from sklearn.model_selection import train_test_split\n",
    "from sklearn.linear_model import LinearRegression\n",
    "from sklearn.linear_model import PolynomialRegression\n",
    "\n",
    "df_por = pd.read_csv('student-por.csv', sep=';')\n",
    "df_mat = pd.read_csv('student-mat.csv', sep=';')\n",
    "df_por"
   ]
  },
  {
   "cell_type": "code",
   "execution_count": null,
   "metadata": {},
   "outputs": [],
   "source": [
    "file= 'student-por.csv'\n",
    "\n",
    "df = pd.read_csv(file , delimiter=';')\n",
    "df_math = pd.read_csv('student-mat.csv', delimiter=';')\n",
    "\n",
    "df.romantic.replace(('yes', 'no'), (1, 0), inplace=True)#0, 1 is in a relationship/ is not\n",
    "df.internet.replace(('yes', 'no'), (1, 0), inplace=True)#0, 1 no acess at home/ access at home\n",
    "df.higher.replace(('yes', 'no'), (1, 0), inplace=True)#1, 0 wants to take higher education\n",
    "df.nursery.replace(('yes', 'no'), (1, 0), inplace=True)#1, 0 attended nurcery school\n",
    "df.activities.replace(('yes', 'no'), (1, 0), inplace=True)#1, 0 has extra curricular activity\n",
    "df.paid.replace(('yes', 'no'), (1, 0), inplace=True)\n",
    "df.famsup.replace(('yes', 'no'), (1, 0), inplace=True)\n",
    "df.schoolsup.replace(('yes', 'no'), (1, 0), inplace=True)\n",
    "\n",
    "df.rename(columns = {'sex': 'isMale', 'address': 'livesInUrban', 'Pstatus': 'HasBothParents'}, inplace = True)\n",
    "df.isMale.replace(('F', 'M'), (0, 1), inplace = True)\n",
    "df.livesInUrban.replace(('U', 'R'), (1, 0), inplace = True)\n",
    "df.school.replace(('GP', 'MS'),(0, 1), inplace = True ) #0: went to GP, 1 : went t MS\n",
    "df.HasBothParents.replace(('A', 'T'),(0, 1), inplace = True)\n",
    "df.Mjob.replace(('at_home', 'health', 'other', 'services', 'teacher'), (0, 1, 1, 1, 1), inplace= True)\n",
    "df.Fjob.replace(('at_home', 'health', 'other', 'services', 'teacher'), (0, 1, 1, 1, 1), inplace= True)\n",
    "df.famsize.replace(('GT3', 'LE3'),(1, 0), inplace = True)\n",
    "df.guardian.replace(('mother', 'father', 'other'),(1, 1, 0), inplace = True)\n",
    "\n",
    "df_por = df"
   ]
  },
  {
   "cell_type": "code",
   "execution_count": null,
   "metadata": {},
   "outputs": [],
   "source": [
    "df = df.drop(['reason'], axis=1)\n",
    "df.guardian.unique()"
   ]
  },
  {
   "cell_type": "code",
   "execution_count": null,
   "metadata": {},
   "outputs": [],
   "source": [
    "import matplotlib.pyplot as plt\n",
    "import seaborn as sns\n",
    "\n",
    "plt.matshow(df.corr())\n",
    "plt.show()\n",
    "\n",
    "# df_small = df.iloc[:,:6]\n",
    "\n",
    "correlation_mat = df.corr()\n",
    "\n"
   ]
  },
  {
   "cell_type": "code",
   "execution_count": null,
   "metadata": {},
   "outputs": [],
   "source": [
    "# plt.figure(figsize=(30, 30))\n",
    "# heatmap = sns.heatmap(df.corr(), vmin=-1, vmax=1, annot=True)\n",
    "# heatmap.set_title('Correlation Heatmap', fontdict={'fontsize':12}, pad=12);"
   ]
  },
  {
   "cell_type": "code",
   "execution_count": null,
   "metadata": {},
   "outputs": [],
   "source": [
    "G1 = df['G1']\n",
    "G2 = df['G2']\n",
    "df = df.drop(['G2'], axis=1)\n",
    "df = df.drop(['G1'], axis=1)\n",
    "df"
   ]
  },
  {
   "cell_type": "code",
   "execution_count": null,
   "metadata": {},
   "outputs": [],
   "source": [
    "X_train, X_test, y_train, y_test = train_test_split(df.iloc[:, 0:-2], df.iloc[:, -1], test_size=0.15, random_state=42)\n",
    "y_train"
   ]
  },
  {
   "cell_type": "code",
   "execution_count": null,
   "metadata": {},
   "outputs": [],
   "source": [
    "model = LinearRegression()\n",
    "model.fit(X_train, y_train)\n",
    "r_sq = model.score(X_train, y_train)\n",
    "print('coefficient of determination:', r_sq)\n",
    "\n",
    "y_pred = model.predict(X_test)\n"
   ]
  },
  {
   "cell_type": "code",
   "execution_count": null,
   "metadata": {},
   "outputs": [],
   "source": []
  },
  {
   "cell_type": "code",
   "execution_count": 61,
   "metadata": {},
   "outputs": [
    {
     "data": {
      "text/plain": [
       "2.142758403321539"
      ]
     },
     "execution_count": 61,
     "metadata": {},
     "output_type": "execute_result"
    }
   ],
   "source": [
    "mse = np.abs(np.subtract(y_pred, y_test)).mean()\n",
    "mse"
   ]
  }
 ],
 "metadata": {
  "kernelspec": {
   "display_name": "Python 3",
   "language": "python",
   "name": "python3"
  },
  "language_info": {
   "codemirror_mode": {
    "name": "ipython",
    "version": 3
   },
   "file_extension": ".py",
   "mimetype": "text/x-python",
   "name": "python",
   "nbconvert_exporter": "python",
   "pygments_lexer": "ipython3",
   "version": "3.8.5"
  }
 },
 "nbformat": 4,
 "nbformat_minor": 4
}
